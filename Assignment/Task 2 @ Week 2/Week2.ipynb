{
 "cells": [
  {
   "cell_type": "markdown",
   "id": "2479bdbf",
   "metadata": {},
   "source": [
    "##Question:Why might a chatbot built on BERT (encoder-only) struggle to answer open-ended questions?\n",
    "\n",
    "ANS:A chatbot built on BERT (encoder-only) struggles with open-ended questions because BERT is not a generative model. It’s trained for understanding and classification (like filling blanks or finding answers in text), not for creating new, coherent responses, so it can’t naturally generate long, open-ended answers.\n",
    "\n",
    "##Question:Why do you think meeting transcription apps like Zoom or Google Meet struggle when multiple people talk at once?\n",
    "\n",
    "ANS:Meeting transcription apps like Zoom or Google Meet struggle when multiple people talk at once because speech recognition models are designed to process one clear speaker at a time. Overlapping voices create audio interference and ambiguity, making it hard for the system to separate speakers and accurately transcribe their words.\n",
    "\n",
    "\n",
    "##Question:If you were designing a voice-based AI tutor, what qualities would you want in its TTS voice (tone, speed, clarity, etc.)?\n",
    "\n",
    "ANS:I’d want the TTS voice to have a clear and natural tone, moderate speed (not too fast or too slow), and high clarity in pronunciation. It should also sound engaging and friendly, with the ability to adjust tone and pace based on the learner’s needs to keep the experience interactive and easy to follow."
   ]
  }
 ],
 "metadata": {
  "language_info": {
   "name": "python"
  }
 },
 "nbformat": 4,
 "nbformat_minor": 5
}
