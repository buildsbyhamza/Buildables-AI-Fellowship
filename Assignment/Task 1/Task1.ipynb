{
 "cells": [
  {
   "cell_type": "markdown",
   "id": "c5676e6a",
   "metadata": {},
   "source": [
    "**Q: What is one task that LLMs perform surprisingly well, and one task where they still struggle — and why do you think that is?**  \n",
    "ANS:LLMs perform well in natural language translation because they capture patterns across languages, but they struggle with logical reasoning or math since that require step-by-step correction.  \n",
    "\n",
    "**Q: If an LLM gives a very confident but wrong answer, should we call that a ‘mistake’ like in humans, or something else? Why?**  \n",
    "ANS:A confident but wrong answer from an LLM is better seen as a hallucination rather than a “mistake,” since it lacks awareness or intent like humans.  \n",
    "\n",
    "**Q: Do you think LLMs will replace programmers, or just change the way programming is done? Why?**  \n",
    "ANS:LLMs won’t replace programmers but will augment programming, automating and speeding up task while humans handle designs, critical thinking.  \n",
    "\n",
    "**Q: Humans learn language from relatively little data compared to LLMs, which need billions of words. Why do you think humans are so much more data-efficient?**  \n",
    "ANS:Humans are more data-efficient because of innate cognitive structures, world knowledge, and interaction-based learning, while LLMs rely only on text.  \n",
    "\n",
    "**Q: When an LLM generates a poem or a story, would you call it ‘creative’? Why or why not?**  \n",
    "ANS:An LLM’s story or poem can be called synthetic creativity, since it generate on learned data, and also it lacks intent or self-expression.  \n",
    "\n",
    "**Q: If you ask the same LLM the same question multiple times, you might get different answers. What does this tell us about how LLMs generate text?**  \n",
    "ANS:Different answers to the same prompt show that LLMs use probabilistic sampling, generating varied output rather than fixed facts.  \n"
   ]
  }
 ],
 "metadata": {
  "kernelspec": {
   "display_name": "Python 3",
   "language": "python",
   "name": "python3"
  },
  "language_info": {
   "name": "python",
   "version": "3.13.5"
  }
 },
 "nbformat": 4,
 "nbformat_minor": 5
}
