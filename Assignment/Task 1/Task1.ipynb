{
 "cells": [
  {
   "cell_type": "markdown",
   "id": "aa4d27e2",
   "metadata": {},
   "source": [
    "## AI Questions "
   ]
  },
  {
   "cell_type": "markdown",
   "id": "568143ce",
   "metadata": {},
   "source": [
    "**Q: Do you think AI should be defined by how it is built, or by what it can do? Why?**  \n",
    "ANS:AI should be defined by what it can do, since capabilities matter more than technical details of construction.  \n",
    "\n",
    "**Q: Today's AI is mostly narrow AI (like bots, recommendation systems, etc). What do you think true 'general AI' would look like - and how close are we to it?**  \n",
    "ANS:General AI would flexibly learn, reason, and adapt like a human across many tasks. We are still decades away from achieving it.  \n",
    "\n",
    "**Q: Can AI ‘understand’ things the way humans do, or is it just simulating understanding?**  \n",
    "ANS:AI simulates understanding by predicting patterns in data; it  alos lacks consciousness and real-world problem solving.  \n",
    "\n",
    "**Q: If an AI system makes a decision that harms someone, who should be responsible: the AI, the developer, or the user?**  \n",
    "ANS:Responsibility should fall on humans, mainly developers and users — since AI has no intent or accountability.  \n",
    "\n",
    "**Q: Should AI be allowed to make decisions in areas like healthcare, hiring, or law? Why or why not?**  \n",
    "ANS:AI can assist in these areas but should not be the final decision-maker, because fairness, ethics, and human judgment are critical.  \n",
    "\n",
    "**Q: If an AI composes music or paints artwork, who owns the rights — the AI, the programmer, or nobody?**  \n",
    "ANS:Ownership usually belongs to the programmer or user, since AI is a tool without legal intent.  \n",
    "\n",
    "**Q: Which jobs do you think AI will change the most in the next 10 years, and which jobs are the hardest for AI to replace?**  \n",
    "ANS:Routine, data-heavy jobs (customer support, coding help) will change most. Human-centered roles needing empathy, creativity, or physical skill are hardest to replace.  \n",
    "\n",
    "**Q: Would you trust an AI to drive your car, perform surgery, or grade your exams? Why or why not?**  \n",
    "ANS:Trust depends on context: AI can be reliable in structured tasks like grading, but surgery or high-stakes decisions still need human overlook.  \n"
   ]
  },
  {
   "cell_type": "markdown",
   "id": "c541c7d1",
   "metadata": {},
   "source": [
    "## LLM Questions"
   ]
  },
  {
   "cell_type": "markdown",
   "id": "c5676e6a",
   "metadata": {},
   "source": [
    "**Q: What is one task that LLMs perform surprisingly well, and one task where they still struggle — and why do you think that is?**  \n",
    "ANS:LLMs perform well in natural language translation because they capture patterns across languages, but they struggle with logical reasoning or math since that require step-by-step correction.  \n",
    "\n",
    "**Q: If an LLM gives a very confident but wrong answer, should we call that a ‘mistake’ like in humans, or something else? Why?**  \n",
    "ANS:A confident but wrong answer from an LLM is better seen as a hallucination rather than a “mistake,” since it lacks awareness or intent like humans.  \n",
    "\n",
    "**Q: Do you think LLMs will replace programmers, or just change the way programming is done? Why?**  \n",
    "ANS:LLMs won’t replace programmers but will augment programming, automating and speeding up task while humans handle designs, critical thinking.  \n",
    "\n",
    "**Q: Humans learn language from relatively little data compared to LLMs, which need billions of words. Why do you think humans are so much more data-efficient?**  \n",
    "ANS:Humans are more data-efficient because of innate cognitive structures, world knowledge, and interaction-based learning, while LLMs rely only on text.  \n",
    "\n",
    "**Q: When an LLM generates a poem or a story, would you call it ‘creative’? Why or why not?**  \n",
    "ANS:An LLM’s story or poem can be called synthetic creativity, since it generate on learned data, and also it lacks intent or self-expression.  \n",
    "\n",
    "**Q: If you ask the same LLM the same question multiple times, you might get different answers. What does this tell us about how LLMs generate text?**  \n",
    "ANS:Different answers to the same prompt show that LLMs use probabilistic sampling, generating varied output rather than fixed facts.  \n"
   ]
  },
  {
   "cell_type": "markdown",
   "id": "8ffb6869",
   "metadata": {},
   "source": [
    "## API Questions"
   ]
  },
  {
   "cell_type": "markdown",
   "id": "744006ba",
   "metadata": {},
   "source": [
    "**Q: If an AI model is huge and cannot run on your laptop, how can an API make it usable for you?**  \n",
    "ANS:The model runs on powerful servers in the cloud, and the API lets your laptop send requests and receive results without needing to run the model locally.  \n",
    "\n",
    "**Q: Why do most AI companies (like OpenAI, Hugging Face, Google) provide APIs instead of letting people directly download their models?**  \n",
    "ANS:APIs ensure easy access, lower hardware costs for users, protect proprietary models, and allow companies to update/improve models centrally.  \n",
    "\n",
    "**Q: Why do you think API rate limits exist? How does it affect AI usage?**  \n",
    "ANS:Rate limits prevent server overload, ensure fair usage among users, and control costs. They can restrict heavy usage, so developers must design efficiently.  \n",
    "\n",
    "**Q: How would you handle an API error like 429 Too Many Requests in your code?**  \n",
    "ANS:I’d implement **retry logic with exponential backoff** (wait, then try again) to stay within rate limits.  \n"
   ]
  }
 ],
 "metadata": {
  "kernelspec": {
   "display_name": "Python 3",
   "language": "python",
   "name": "python3"
  },
  "language_info": {
   "name": "python",
   "version": "3.13.5"
  }
 },
 "nbformat": 4,
 "nbformat_minor": 5
}
